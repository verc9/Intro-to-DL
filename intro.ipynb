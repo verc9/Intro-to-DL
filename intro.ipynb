{
  "nbformat": 4,
  "nbformat_minor": 0,
  "metadata": {
    "colab": {
      "name": "intro.ipynb",
      "provenance": [],
      "authorship_tag": "ABX9TyO8R774zOfj/wJJ4wElx0hh",
      "include_colab_link": true
    },
    "kernelspec": {
      "name": "python3",
      "display_name": "Python 3"
    },
    "language_info": {
      "name": "python"
    }
  },
  "cells": [
    {
      "cell_type": "markdown",
      "metadata": {
        "id": "view-in-github",
        "colab_type": "text"
      },
      "source": [
        "<a href=\"https://colab.research.google.com/github/verc9/Intro-to-DL/blob/main/intro.ipynb\" target=\"_parent\"><img src=\"https://colab.research.google.com/assets/colab-badge.svg\" alt=\"Open In Colab\"/></a>"
      ]
    },
    {
      "cell_type": "markdown",
      "metadata": {
        "id": "BBI0HfXjpJS7"
      },
      "source": [
        "# Write some text\n",
        "- This is the introduction to deep learning course\n",
        "- This is new colaboratory file"
      ]
    },
    {
      "cell_type": "markdown",
      "metadata": {
        "id": "vdXoZXfCpr-l"
      },
      "source": [
        "### Import Packages"
      ]
    },
    {
      "cell_type": "code",
      "metadata": {
        "id": "Pt6EPp1GoGwf"
      },
      "source": [
        "import numpy as np\n",
        "import os\n",
        "import sys\n",
        "import torch"
      ],
      "execution_count": 1,
      "outputs": []
    },
    {
      "cell_type": "markdown",
      "metadata": {
        "id": "jyATQuEJpfU-"
      },
      "source": [
        "### Trials for printing"
      ]
    },
    {
      "cell_type": "code",
      "metadata": {
        "colab": {
          "base_uri": "https://localhost:8080/"
        },
        "id": "Yk4Ss_G9oxZr",
        "outputId": "e96a38ce-88a8-4a7d-d06b-b6c5eae30b0a"
      },
      "source": [
        "print(\"new code cell above\")"
      ],
      "execution_count": 3,
      "outputs": [
        {
          "output_type": "stream",
          "name": "stdout",
          "text": [
            "new code cell above\n"
          ]
        }
      ]
    },
    {
      "cell_type": "markdown",
      "metadata": {
        "id": "ab4lMqD3pww8"
      },
      "source": [
        "### New Section"
      ]
    },
    {
      "cell_type": "code",
      "metadata": {
        "colab": {
          "base_uri": "https://localhost:8080/"
        },
        "id": "LyDyedXTo2Ha",
        "outputId": "85c0fa9f-7984-41a4-a0ab-7e7f2187db1f"
      },
      "source": [
        "print(\"new new cpde cell\")"
      ],
      "execution_count": 4,
      "outputs": [
        {
          "output_type": "stream",
          "name": "stdout",
          "text": [
            "new new cpde cell\n"
          ]
        }
      ]
    }
  ]
}